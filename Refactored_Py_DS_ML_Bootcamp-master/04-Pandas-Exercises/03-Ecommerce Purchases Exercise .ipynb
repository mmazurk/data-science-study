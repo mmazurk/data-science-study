{
 "cells": [
  {
   "cell_type": "markdown",
   "metadata": {},
   "source": [
    "___\n",
    "\n",
    "# Ecommerce Purchases Exercise\n",
    "\n",
    "In this Exercise you will be given some Fake Data about some purchases done through Amazon! Just go ahead and follow the directions and try your best to answer the questions and complete the tasks. Feel free to reference the solutions. Most of the tasks can be solved in different ways. For the most part, the questions get progressively harder.\n",
    "\n",
    "Please excuse anything that doesn't make \"Real-World\" sense in the dataframe, all the data is fake and made-up.\n",
    "\n",
    "Also note that all of these questions can be answered with one line of code.\n",
    "____\n",
    "** Import pandas and read in the Ecommerce Purchases csv file and set it to a DataFrame called ecom. **"
   ]
  },
  {
   "cell_type": "code",
   "execution_count": 1,
   "metadata": {
    "collapsed": true
   },
   "outputs": [],
   "source": [
    "import pandas as pd"
   ]
  },
  {
   "cell_type": "code",
   "execution_count": 3,
   "metadata": {
    "collapsed": true
   },
   "outputs": [],
   "source": [
    "ecom = pd.read_csv(\"Ecommerce Purchases\")"
   ]
  },
  {
   "cell_type": "markdown",
   "metadata": {},
   "source": [
    "**Check the head of the DataFrame.**"
   ]
  },
  {
   "cell_type": "code",
   "execution_count": 4,
   "metadata": {
    "collapsed": false
   },
   "outputs": [
    {
     "data": {
      "text/html": [
       "<div>\n",
       "<style scoped>\n",
       "    .dataframe tbody tr th:only-of-type {\n",
       "        vertical-align: middle;\n",
       "    }\n",
       "\n",
       "    .dataframe tbody tr th {\n",
       "        vertical-align: top;\n",
       "    }\n",
       "\n",
       "    .dataframe thead th {\n",
       "        text-align: right;\n",
       "    }\n",
       "</style>\n",
       "<table border=\"1\" class=\"dataframe\">\n",
       "  <thead>\n",
       "    <tr style=\"text-align: right;\">\n",
       "      <th></th>\n",
       "      <th>Address</th>\n",
       "      <th>Lot</th>\n",
       "      <th>AM or PM</th>\n",
       "      <th>Browser Info</th>\n",
       "      <th>Company</th>\n",
       "      <th>Credit Card</th>\n",
       "      <th>CC Exp Date</th>\n",
       "      <th>CC Security Code</th>\n",
       "      <th>CC Provider</th>\n",
       "      <th>Email</th>\n",
       "      <th>Job</th>\n",
       "      <th>IP Address</th>\n",
       "      <th>Language</th>\n",
       "      <th>Purchase Price</th>\n",
       "    </tr>\n",
       "  </thead>\n",
       "  <tbody>\n",
       "    <tr>\n",
       "      <th>0</th>\n",
       "      <td>16629 Pace Camp Apt. 448\\nAlexisborough, NE 77...</td>\n",
       "      <td>46 in</td>\n",
       "      <td>PM</td>\n",
       "      <td>Opera/9.56.(X11; Linux x86_64; sl-SI) Presto/2...</td>\n",
       "      <td>Martinez-Herman</td>\n",
       "      <td>6011929061123406</td>\n",
       "      <td>02/20</td>\n",
       "      <td>900</td>\n",
       "      <td>JCB 16 digit</td>\n",
       "      <td>pdunlap@yahoo.com</td>\n",
       "      <td>Scientist, product/process development</td>\n",
       "      <td>149.146.147.205</td>\n",
       "      <td>el</td>\n",
       "      <td>98.14</td>\n",
       "    </tr>\n",
       "    <tr>\n",
       "      <th>1</th>\n",
       "      <td>9374 Jasmine Spurs Suite 508\\nSouth John, TN 8...</td>\n",
       "      <td>28 rn</td>\n",
       "      <td>PM</td>\n",
       "      <td>Opera/8.93.(Windows 98; Win 9x 4.90; en-US) Pr...</td>\n",
       "      <td>Fletcher, Richards and Whitaker</td>\n",
       "      <td>3337758169645356</td>\n",
       "      <td>11/18</td>\n",
       "      <td>561</td>\n",
       "      <td>Mastercard</td>\n",
       "      <td>anthony41@reed.com</td>\n",
       "      <td>Drilling engineer</td>\n",
       "      <td>15.160.41.51</td>\n",
       "      <td>fr</td>\n",
       "      <td>70.73</td>\n",
       "    </tr>\n",
       "    <tr>\n",
       "      <th>2</th>\n",
       "      <td>Unit 0065 Box 5052\\nDPO AP 27450</td>\n",
       "      <td>94 vE</td>\n",
       "      <td>PM</td>\n",
       "      <td>Mozilla/5.0 (compatible; MSIE 9.0; Windows NT ...</td>\n",
       "      <td>Simpson, Williams and Pham</td>\n",
       "      <td>675957666125</td>\n",
       "      <td>08/19</td>\n",
       "      <td>699</td>\n",
       "      <td>JCB 16 digit</td>\n",
       "      <td>amymiller@morales-harrison.com</td>\n",
       "      <td>Customer service manager</td>\n",
       "      <td>132.207.160.22</td>\n",
       "      <td>de</td>\n",
       "      <td>0.95</td>\n",
       "    </tr>\n",
       "    <tr>\n",
       "      <th>3</th>\n",
       "      <td>7780 Julia Fords\\nNew Stacy, WA 45798</td>\n",
       "      <td>36 vm</td>\n",
       "      <td>PM</td>\n",
       "      <td>Mozilla/5.0 (Macintosh; Intel Mac OS X 10_8_0 ...</td>\n",
       "      <td>Williams, Marshall and Buchanan</td>\n",
       "      <td>6011578504430710</td>\n",
       "      <td>02/24</td>\n",
       "      <td>384</td>\n",
       "      <td>Discover</td>\n",
       "      <td>brent16@olson-robinson.info</td>\n",
       "      <td>Drilling engineer</td>\n",
       "      <td>30.250.74.19</td>\n",
       "      <td>es</td>\n",
       "      <td>78.04</td>\n",
       "    </tr>\n",
       "    <tr>\n",
       "      <th>4</th>\n",
       "      <td>23012 Munoz Drive Suite 337\\nNew Cynthia, TX 5...</td>\n",
       "      <td>20 IE</td>\n",
       "      <td>AM</td>\n",
       "      <td>Opera/9.58.(X11; Linux x86_64; it-IT) Presto/2...</td>\n",
       "      <td>Brown, Watson and Andrews</td>\n",
       "      <td>6011456623207998</td>\n",
       "      <td>10/25</td>\n",
       "      <td>678</td>\n",
       "      <td>Diners Club / Carte Blanche</td>\n",
       "      <td>christopherwright@gmail.com</td>\n",
       "      <td>Fine artist</td>\n",
       "      <td>24.140.33.94</td>\n",
       "      <td>es</td>\n",
       "      <td>77.82</td>\n",
       "    </tr>\n",
       "  </tbody>\n",
       "</table>\n",
       "</div>"
      ],
      "text/plain": [
       "                                             Address    Lot AM or PM  \\\n",
       "0  16629 Pace Camp Apt. 448\\nAlexisborough, NE 77...  46 in       PM   \n",
       "1  9374 Jasmine Spurs Suite 508\\nSouth John, TN 8...  28 rn       PM   \n",
       "2                   Unit 0065 Box 5052\\nDPO AP 27450  94 vE       PM   \n",
       "3              7780 Julia Fords\\nNew Stacy, WA 45798  36 vm       PM   \n",
       "4  23012 Munoz Drive Suite 337\\nNew Cynthia, TX 5...  20 IE       AM   \n",
       "\n",
       "                                        Browser Info  \\\n",
       "0  Opera/9.56.(X11; Linux x86_64; sl-SI) Presto/2...   \n",
       "1  Opera/8.93.(Windows 98; Win 9x 4.90; en-US) Pr...   \n",
       "2  Mozilla/5.0 (compatible; MSIE 9.0; Windows NT ...   \n",
       "3  Mozilla/5.0 (Macintosh; Intel Mac OS X 10_8_0 ...   \n",
       "4  Opera/9.58.(X11; Linux x86_64; it-IT) Presto/2...   \n",
       "\n",
       "                           Company       Credit Card CC Exp Date  \\\n",
       "0                  Martinez-Herman  6011929061123406       02/20   \n",
       "1  Fletcher, Richards and Whitaker  3337758169645356       11/18   \n",
       "2       Simpson, Williams and Pham      675957666125       08/19   \n",
       "3  Williams, Marshall and Buchanan  6011578504430710       02/24   \n",
       "4        Brown, Watson and Andrews  6011456623207998       10/25   \n",
       "\n",
       "   CC Security Code                  CC Provider  \\\n",
       "0               900                 JCB 16 digit   \n",
       "1               561                   Mastercard   \n",
       "2               699                 JCB 16 digit   \n",
       "3               384                     Discover   \n",
       "4               678  Diners Club / Carte Blanche   \n",
       "\n",
       "                            Email                                     Job  \\\n",
       "0               pdunlap@yahoo.com  Scientist, product/process development   \n",
       "1              anthony41@reed.com                       Drilling engineer   \n",
       "2  amymiller@morales-harrison.com                Customer service manager   \n",
       "3     brent16@olson-robinson.info                       Drilling engineer   \n",
       "4     christopherwright@gmail.com                             Fine artist   \n",
       "\n",
       "        IP Address Language  Purchase Price  \n",
       "0  149.146.147.205       el           98.14  \n",
       "1     15.160.41.51       fr           70.73  \n",
       "2   132.207.160.22       de            0.95  \n",
       "3     30.250.74.19       es           78.04  \n",
       "4     24.140.33.94       es           77.82  "
      ]
     },
     "execution_count": 4,
     "metadata": {},
     "output_type": "execute_result"
    }
   ],
   "source": [
    "ecom.head()"
   ]
  },
  {
   "cell_type": "markdown",
   "metadata": {},
   "source": [
    "** How many rows and columns are there? **"
   ]
  },
  {
   "cell_type": "code",
   "execution_count": 13,
   "metadata": {
    "collapsed": false
   },
   "outputs": [
    {
     "name": "stdout",
     "output_type": "stream",
     "text": [
      "There are 10000 rows and 14 columns\n"
     ]
    }
   ],
   "source": [
    "print(f\"There are {ecom.shape[0]} rows and {ecom.shape[1]} columns\")"
   ]
  },
  {
   "cell_type": "markdown",
   "metadata": {},
   "source": [
    "** What is the average Purchase Price? **"
   ]
  },
  {
   "cell_type": "code",
   "execution_count": 14,
   "metadata": {
    "collapsed": false
   },
   "outputs": [
    {
     "data": {
      "text/html": [
       "<div>\n",
       "<style scoped>\n",
       "    .dataframe tbody tr th:only-of-type {\n",
       "        vertical-align: middle;\n",
       "    }\n",
       "\n",
       "    .dataframe tbody tr th {\n",
       "        vertical-align: top;\n",
       "    }\n",
       "\n",
       "    .dataframe thead th {\n",
       "        text-align: right;\n",
       "    }\n",
       "</style>\n",
       "<table border=\"1\" class=\"dataframe\">\n",
       "  <thead>\n",
       "    <tr style=\"text-align: right;\">\n",
       "      <th></th>\n",
       "      <th>0</th>\n",
       "    </tr>\n",
       "  </thead>\n",
       "  <tbody>\n",
       "    <tr>\n",
       "      <th>0</th>\n",
       "      <td>Address</td>\n",
       "    </tr>\n",
       "    <tr>\n",
       "      <th>1</th>\n",
       "      <td>Lot</td>\n",
       "    </tr>\n",
       "    <tr>\n",
       "      <th>2</th>\n",
       "      <td>AM or PM</td>\n",
       "    </tr>\n",
       "    <tr>\n",
       "      <th>3</th>\n",
       "      <td>Browser Info</td>\n",
       "    </tr>\n",
       "    <tr>\n",
       "      <th>4</th>\n",
       "      <td>Company</td>\n",
       "    </tr>\n",
       "    <tr>\n",
       "      <th>5</th>\n",
       "      <td>Credit Card</td>\n",
       "    </tr>\n",
       "    <tr>\n",
       "      <th>6</th>\n",
       "      <td>CC Exp Date</td>\n",
       "    </tr>\n",
       "    <tr>\n",
       "      <th>7</th>\n",
       "      <td>CC Security Code</td>\n",
       "    </tr>\n",
       "    <tr>\n",
       "      <th>8</th>\n",
       "      <td>CC Provider</td>\n",
       "    </tr>\n",
       "    <tr>\n",
       "      <th>9</th>\n",
       "      <td>Email</td>\n",
       "    </tr>\n",
       "    <tr>\n",
       "      <th>10</th>\n",
       "      <td>Job</td>\n",
       "    </tr>\n",
       "    <tr>\n",
       "      <th>11</th>\n",
       "      <td>IP Address</td>\n",
       "    </tr>\n",
       "    <tr>\n",
       "      <th>12</th>\n",
       "      <td>Language</td>\n",
       "    </tr>\n",
       "    <tr>\n",
       "      <th>13</th>\n",
       "      <td>Purchase Price</td>\n",
       "    </tr>\n",
       "  </tbody>\n",
       "</table>\n",
       "</div>"
      ],
      "text/plain": [
       "                   0\n",
       "0            Address\n",
       "1                Lot\n",
       "2           AM or PM\n",
       "3       Browser Info\n",
       "4            Company\n",
       "5        Credit Card\n",
       "6        CC Exp Date\n",
       "7   CC Security Code\n",
       "8        CC Provider\n",
       "9              Email\n",
       "10               Job\n",
       "11        IP Address\n",
       "12          Language\n",
       "13    Purchase Price"
      ]
     },
     "execution_count": 14,
     "metadata": {},
     "output_type": "execute_result"
    }
   ],
   "source": [
    "pd.DataFrame(ecom.columns)"
   ]
  },
  {
   "cell_type": "code",
   "execution_count": 17,
   "metadata": {},
   "outputs": [
    {
     "name": "stdout",
     "output_type": "stream",
     "text": [
      "The average purchase price is $50.35\n"
     ]
    }
   ],
   "source": [
    "avg_purchase_price = round(ecom[\"Purchase Price\"].mean(), 2)\n",
    "print(f\"The average purchase price is ${avg_purchase_price}\")"
   ]
  },
  {
   "cell_type": "markdown",
   "metadata": {},
   "source": [
    "** What were the highest and lowest purchase prices? **"
   ]
  },
  {
   "cell_type": "code",
   "execution_count": 19,
   "metadata": {
    "collapsed": false
   },
   "outputs": [
    {
     "name": "stdout",
     "output_type": "stream",
     "text": [
      "The lowest purchase prcie is $0.0\n"
     ]
    }
   ],
   "source": [
    "lowest_purchase_price = round(ecom[\"Purchase Price\"].min(), 2)\n",
    "print(f\"The lowest purchase prcie is ${lowest_purchase_price}\")"
   ]
  },
  {
   "cell_type": "code",
   "execution_count": 20,
   "metadata": {
    "collapsed": false
   },
   "outputs": [
    {
     "data": {
      "text/plain": [
       "count    10000.000000\n",
       "mean        50.347302\n",
       "std         29.015836\n",
       "min          0.000000\n",
       "25%         25.150000\n",
       "50%         50.505000\n",
       "75%         75.770000\n",
       "max         99.990000\n",
       "Name: Purchase Price, dtype: float64"
      ]
     },
     "execution_count": 20,
     "metadata": {},
     "output_type": "execute_result"
    }
   ],
   "source": [
    "ecom[\"Purchase Price\"].describe()"
   ]
  },
  {
   "cell_type": "markdown",
   "metadata": {},
   "source": [
    "** How many people have English 'en' as their Language of choice on the website? **"
   ]
  },
  {
   "cell_type": "code",
   "execution_count": 26,
   "metadata": {
    "collapsed": false
   },
   "outputs": [
    {
     "data": {
      "text/plain": [
       "Language\n",
       "de    1155\n",
       "ru    1155\n",
       "el    1137\n",
       "pt    1118\n",
       "en    1098\n",
       "fr    1097\n",
       "es    1095\n",
       "it    1086\n",
       "zh    1059\n",
       "Name: count, dtype: int64"
      ]
     },
     "execution_count": 26,
     "metadata": {},
     "output_type": "execute_result"
    }
   ],
   "source": [
    "ecom[\"Language\"].value_counts()\n",
    "ecom[\"Language\"].value_counts()[\"en\"].item()"
   ]
  },
  {
   "cell_type": "markdown",
   "metadata": {},
   "source": [
    "** How many people have the job title of \"Lawyer\" ? **\n"
   ]
  },
  {
   "cell_type": "code",
   "execution_count": 33,
   "metadata": {
    "collapsed": false
   },
   "outputs": [
    {
     "data": {
      "text/plain": [
       "30"
      ]
     },
     "execution_count": 33,
     "metadata": {},
     "output_type": "execute_result"
    }
   ],
   "source": [
    "series = ecom[\"Job\"].value_counts()\n",
    "series[\"Lawyer\"].item()"
   ]
  },
  {
   "cell_type": "markdown",
   "metadata": {},
   "source": [
    "** How many people made the purchase during the AM and how many people made the purchase during PM ? **\n",
    "\n",
    "**(Hint: Check out [value_counts()](http://pandas.pydata.org/pandas-docs/stable/generated/pandas.Series.value_counts.html) ) **"
   ]
  },
  {
   "cell_type": "code",
   "execution_count": 34,
   "metadata": {
    "collapsed": false
   },
   "outputs": [
    {
     "data": {
      "text/plain": [
       "AM or PM\n",
       "PM    5068\n",
       "AM    4932\n",
       "Name: count, dtype: int64"
      ]
     },
     "execution_count": 34,
     "metadata": {},
     "output_type": "execute_result"
    }
   ],
   "source": [
    "ecom[\"AM or PM\"].value_counts()"
   ]
  },
  {
   "cell_type": "markdown",
   "metadata": {},
   "source": [
    "** What are the 5 most common Job Titles? **"
   ]
  },
  {
   "cell_type": "code",
   "execution_count": 38,
   "metadata": {
    "collapsed": false
   },
   "outputs": [
    {
     "data": {
      "text/plain": [
       "Job\n",
       "Interior and spatial designer        31\n",
       "Lawyer                               30\n",
       "Social researcher                    28\n",
       "Designer, jewellery                  27\n",
       "Research officer, political party    27\n",
       "Name: count, dtype: int64"
      ]
     },
     "execution_count": 38,
     "metadata": {},
     "output_type": "execute_result"
    }
   ],
   "source": [
    "most_common = ecom[\"Job\"].value_counts()\n",
    "most_common.sort_values(ascending=False).head(5)\n"
   ]
  },
  {
   "cell_type": "markdown",
   "metadata": {},
   "source": [
    "** Someone made a purchase that came from Lot: \"90 WT\" , what was the Purchase Price for this transaction? **"
   ]
  },
  {
   "cell_type": "code",
   "execution_count": 50,
   "metadata": {
    "collapsed": false
   },
   "outputs": [
    {
     "name": "stdout",
     "output_type": "stream",
     "text": [
      "The price is $75.1\n"
     ]
    },
    {
     "data": {
      "text/plain": [
       "float"
      ]
     },
     "execution_count": 50,
     "metadata": {},
     "output_type": "execute_result"
    }
   ],
   "source": [
    "entry = ecom[ecom[\"Lot\"] == \"90 WT\"]\n",
    "price = entry[\"Purchase Price\"].item()\n",
    "print(f\"The price is ${price}\")\n"
   ]
  },
  {
   "cell_type": "markdown",
   "metadata": {},
   "source": [
    "** What is the email of the person with the following Credit Card Number: 4926535242672853 **"
   ]
  },
  {
   "cell_type": "code",
   "execution_count": 52,
   "metadata": {
    "collapsed": false
   },
   "outputs": [
    {
     "data": {
      "text/plain": [
       "'bondellen@williams-garza.com'"
      ]
     },
     "execution_count": 52,
     "metadata": {},
     "output_type": "execute_result"
    }
   ],
   "source": [
    "entry = ecom[ecom[\"Credit Card\"] == 4926535242672853]\n",
    "entry[\"Email\"].item()"
   ]
  },
  {
   "cell_type": "markdown",
   "metadata": {},
   "source": [
    "** How many people have American Express as their Credit Card Provider *and* made a purchase above $95 ?**"
   ]
  },
  {
   "cell_type": "code",
   "execution_count": 56,
   "metadata": {
    "collapsed": false
   },
   "outputs": [
    {
     "data": {
      "text/plain": [
       "39"
      ]
     },
     "execution_count": 56,
     "metadata": {},
     "output_type": "execute_result"
    }
   ],
   "source": [
    "people_subset = ecom[(ecom[\"CC Provider\"] == \"American Express\") & (ecom[\"Purchase Price\"] > 95)]\n",
    "len(people_subset)"
   ]
  },
  {
   "cell_type": "markdown",
   "metadata": {},
   "source": [
    "** Hard: How many people have a credit card that expires in 2025? **"
   ]
  },
  {
   "cell_type": "code",
   "execution_count": 71,
   "metadata": {
    "collapsed": false
   },
   "outputs": [
    {
     "data": {
      "text/html": [
       "<div>\n",
       "<style scoped>\n",
       "    .dataframe tbody tr th:only-of-type {\n",
       "        vertical-align: middle;\n",
       "    }\n",
       "\n",
       "    .dataframe tbody tr th {\n",
       "        vertical-align: top;\n",
       "    }\n",
       "\n",
       "    .dataframe thead th {\n",
       "        text-align: right;\n",
       "    }\n",
       "</style>\n",
       "<table border=\"1\" class=\"dataframe\">\n",
       "  <thead>\n",
       "    <tr style=\"text-align: right;\">\n",
       "      <th></th>\n",
       "      <th>Address</th>\n",
       "      <th>Lot</th>\n",
       "      <th>AM or PM</th>\n",
       "      <th>Browser Info</th>\n",
       "      <th>Company</th>\n",
       "      <th>Credit Card</th>\n",
       "      <th>CC Exp Date</th>\n",
       "      <th>CC Security Code</th>\n",
       "      <th>CC Provider</th>\n",
       "      <th>Email</th>\n",
       "      <th>Job</th>\n",
       "      <th>IP Address</th>\n",
       "      <th>Language</th>\n",
       "      <th>Purchase Price</th>\n",
       "    </tr>\n",
       "  </thead>\n",
       "  <tbody>\n",
       "    <tr>\n",
       "      <th>0</th>\n",
       "      <td>16629 Pace Camp Apt. 448\\nAlexisborough, NE 77...</td>\n",
       "      <td>46 in</td>\n",
       "      <td>PM</td>\n",
       "      <td>Opera/9.56.(X11; Linux x86_64; sl-SI) Presto/2...</td>\n",
       "      <td>Martinez-Herman</td>\n",
       "      <td>6011929061123406</td>\n",
       "      <td>02/20</td>\n",
       "      <td>900</td>\n",
       "      <td>JCB 16 digit</td>\n",
       "      <td>pdunlap@yahoo.com</td>\n",
       "      <td>Scientist, product/process development</td>\n",
       "      <td>149.146.147.205</td>\n",
       "      <td>el</td>\n",
       "      <td>98.14</td>\n",
       "    </tr>\n",
       "    <tr>\n",
       "      <th>19</th>\n",
       "      <td>125 Hall Summit\\nBoothton, IL 41721</td>\n",
       "      <td>99 CU</td>\n",
       "      <td>PM</td>\n",
       "      <td>Mozilla/5.0 (compatible; MSIE 7.0; Windows NT ...</td>\n",
       "      <td>Turner-Mckinney</td>\n",
       "      <td>676343504830</td>\n",
       "      <td>02/20</td>\n",
       "      <td>440</td>\n",
       "      <td>VISA 16 digit</td>\n",
       "      <td>ruiznicole@gmail.com</td>\n",
       "      <td>Designer, interior/spatial</td>\n",
       "      <td>25.105.209.214</td>\n",
       "      <td>fr</td>\n",
       "      <td>58.39</td>\n",
       "    </tr>\n",
       "    <tr>\n",
       "      <th>32</th>\n",
       "      <td>Unit 3628 Box 6778\\nDPO AE 72362</td>\n",
       "      <td>39 Qm</td>\n",
       "      <td>PM</td>\n",
       "      <td>Mozilla/5.0 (Windows 98; Win 9x 4.90) AppleWeb...</td>\n",
       "      <td>Martinez-Wilson</td>\n",
       "      <td>4942281854569455</td>\n",
       "      <td>01/20</td>\n",
       "      <td>8360</td>\n",
       "      <td>JCB 16 digit</td>\n",
       "      <td>shane21@atkinson.com</td>\n",
       "      <td>Civil Service fast streamer</td>\n",
       "      <td>196.37.134.217</td>\n",
       "      <td>pt</td>\n",
       "      <td>56.63</td>\n",
       "    </tr>\n",
       "    <tr>\n",
       "      <th>36</th>\n",
       "      <td>9374 Skinner Common Apt. 254\\nChristopherfort,...</td>\n",
       "      <td>80 Fq</td>\n",
       "      <td>PM</td>\n",
       "      <td>Mozilla/5.0 (compatible; MSIE 9.0; Windows NT ...</td>\n",
       "      <td>Hanna-Grant</td>\n",
       "      <td>180042289507877</td>\n",
       "      <td>09/20</td>\n",
       "      <td>912</td>\n",
       "      <td>VISA 16 digit</td>\n",
       "      <td>saundersernest@walsh.com</td>\n",
       "      <td>Animal technologist</td>\n",
       "      <td>85.134.58.250</td>\n",
       "      <td>zh</td>\n",
       "      <td>9.77</td>\n",
       "    </tr>\n",
       "    <tr>\n",
       "      <th>38</th>\n",
       "      <td>9671 Riley Drives Apt. 746\\nPort Davidtown, TN...</td>\n",
       "      <td>15 vj</td>\n",
       "      <td>AM</td>\n",
       "      <td>Mozilla/5.0 (X11; Linux i686; rv:1.9.6.20) Gec...</td>\n",
       "      <td>Bryant, Hubbard and Gonzales</td>\n",
       "      <td>210094965373094</td>\n",
       "      <td>12/20</td>\n",
       "      <td>248</td>\n",
       "      <td>Voyager</td>\n",
       "      <td>djennings@boyd-english.org</td>\n",
       "      <td>Music therapist</td>\n",
       "      <td>143.138.65.219</td>\n",
       "      <td>en</td>\n",
       "      <td>30.07</td>\n",
       "    </tr>\n",
       "    <tr>\n",
       "      <th>...</th>\n",
       "      <td>...</td>\n",
       "      <td>...</td>\n",
       "      <td>...</td>\n",
       "      <td>...</td>\n",
       "      <td>...</td>\n",
       "      <td>...</td>\n",
       "      <td>...</td>\n",
       "      <td>...</td>\n",
       "      <td>...</td>\n",
       "      <td>...</td>\n",
       "      <td>...</td>\n",
       "      <td>...</td>\n",
       "      <td>...</td>\n",
       "      <td>...</td>\n",
       "    </tr>\n",
       "    <tr>\n",
       "      <th>9883</th>\n",
       "      <td>751 Petersen Groves\\nLake Rebecca, NM 55875</td>\n",
       "      <td>61 tE</td>\n",
       "      <td>PM</td>\n",
       "      <td>Mozilla/5.0 (Macintosh; U; PPC Mac OS X 10_8_7...</td>\n",
       "      <td>Perez and Sons</td>\n",
       "      <td>4939814860063025</td>\n",
       "      <td>05/20</td>\n",
       "      <td>238</td>\n",
       "      <td>Mastercard</td>\n",
       "      <td>lisa25@hotmail.com</td>\n",
       "      <td>Therapeutic radiographer</td>\n",
       "      <td>215.85.159.70</td>\n",
       "      <td>pt</td>\n",
       "      <td>67.47</td>\n",
       "    </tr>\n",
       "    <tr>\n",
       "      <th>9901</th>\n",
       "      <td>908 Norman Burgs\\nPhillipsberg, VT 92023-9956</td>\n",
       "      <td>90 Ng</td>\n",
       "      <td>PM</td>\n",
       "      <td>Mozilla/5.0 (compatible; MSIE 9.0; Windows NT ...</td>\n",
       "      <td>Hughes Inc</td>\n",
       "      <td>30148833294789</td>\n",
       "      <td>09/20</td>\n",
       "      <td>483</td>\n",
       "      <td>Voyager</td>\n",
       "      <td>james32@gmail.com</td>\n",
       "      <td>Meteorologist</td>\n",
       "      <td>250.66.85.29</td>\n",
       "      <td>en</td>\n",
       "      <td>57.25</td>\n",
       "    </tr>\n",
       "    <tr>\n",
       "      <th>9911</th>\n",
       "      <td>44320 Gray Centers Suite 325\\nJenniferfurt, OK...</td>\n",
       "      <td>19 Bf</td>\n",
       "      <td>PM</td>\n",
       "      <td>Mozilla/5.0 (X11; Linux i686; rv:1.9.7.20) Gec...</td>\n",
       "      <td>Jones-Gray</td>\n",
       "      <td>4058074716188</td>\n",
       "      <td>12/20</td>\n",
       "      <td>921</td>\n",
       "      <td>Diners Club / Carte Blanche</td>\n",
       "      <td>hensonlindsay@graves-fox.com</td>\n",
       "      <td>Optician, dispensing</td>\n",
       "      <td>84.118.30.56</td>\n",
       "      <td>en</td>\n",
       "      <td>20.63</td>\n",
       "    </tr>\n",
       "    <tr>\n",
       "      <th>9957</th>\n",
       "      <td>73556 Chase Pine\\nBrucemouth, MP 73473</td>\n",
       "      <td>25 rU</td>\n",
       "      <td>PM</td>\n",
       "      <td>Opera/9.49.(Windows 95; en-US) Presto/2.9.189 ...</td>\n",
       "      <td>Martin, Clayton and Jarvis</td>\n",
       "      <td>3337737293232646</td>\n",
       "      <td>05/20</td>\n",
       "      <td>798</td>\n",
       "      <td>VISA 13 digit</td>\n",
       "      <td>latashaochoa@gmail.com</td>\n",
       "      <td>Therapeutic radiographer</td>\n",
       "      <td>239.219.241.162</td>\n",
       "      <td>ru</td>\n",
       "      <td>71.85</td>\n",
       "    </tr>\n",
       "    <tr>\n",
       "      <th>9992</th>\n",
       "      <td>885 Allen Mountains Apt. 230\\nWallhaven, LA 16995</td>\n",
       "      <td>40 vH</td>\n",
       "      <td>PM</td>\n",
       "      <td>Mozilla/5.0 (Macintosh; PPC Mac OS X 10_6_5) A...</td>\n",
       "      <td>Wells Ltd</td>\n",
       "      <td>4664825258997302</td>\n",
       "      <td>10/20</td>\n",
       "      <td>431</td>\n",
       "      <td>Discover</td>\n",
       "      <td>bberry@wright.net</td>\n",
       "      <td>Set designer</td>\n",
       "      <td>174.173.51.32</td>\n",
       "      <td>de</td>\n",
       "      <td>67.96</td>\n",
       "    </tr>\n",
       "  </tbody>\n",
       "</table>\n",
       "<p>988 rows × 14 columns</p>\n",
       "</div>"
      ],
      "text/plain": [
       "                                                Address    Lot AM or PM  \\\n",
       "0     16629 Pace Camp Apt. 448\\nAlexisborough, NE 77...  46 in       PM   \n",
       "19                  125 Hall Summit\\nBoothton, IL 41721  99 CU       PM   \n",
       "32                     Unit 3628 Box 6778\\nDPO AE 72362  39 Qm       PM   \n",
       "36    9374 Skinner Common Apt. 254\\nChristopherfort,...  80 Fq       PM   \n",
       "38    9671 Riley Drives Apt. 746\\nPort Davidtown, TN...  15 vj       AM   \n",
       "...                                                 ...    ...      ...   \n",
       "9883        751 Petersen Groves\\nLake Rebecca, NM 55875  61 tE       PM   \n",
       "9901      908 Norman Burgs\\nPhillipsberg, VT 92023-9956  90 Ng       PM   \n",
       "9911  44320 Gray Centers Suite 325\\nJenniferfurt, OK...  19 Bf       PM   \n",
       "9957             73556 Chase Pine\\nBrucemouth, MP 73473  25 rU       PM   \n",
       "9992  885 Allen Mountains Apt. 230\\nWallhaven, LA 16995  40 vH       PM   \n",
       "\n",
       "                                           Browser Info  \\\n",
       "0     Opera/9.56.(X11; Linux x86_64; sl-SI) Presto/2...   \n",
       "19    Mozilla/5.0 (compatible; MSIE 7.0; Windows NT ...   \n",
       "32    Mozilla/5.0 (Windows 98; Win 9x 4.90) AppleWeb...   \n",
       "36    Mozilla/5.0 (compatible; MSIE 9.0; Windows NT ...   \n",
       "38    Mozilla/5.0 (X11; Linux i686; rv:1.9.6.20) Gec...   \n",
       "...                                                 ...   \n",
       "9883  Mozilla/5.0 (Macintosh; U; PPC Mac OS X 10_8_7...   \n",
       "9901  Mozilla/5.0 (compatible; MSIE 9.0; Windows NT ...   \n",
       "9911  Mozilla/5.0 (X11; Linux i686; rv:1.9.7.20) Gec...   \n",
       "9957  Opera/9.49.(Windows 95; en-US) Presto/2.9.189 ...   \n",
       "9992  Mozilla/5.0 (Macintosh; PPC Mac OS X 10_6_5) A...   \n",
       "\n",
       "                           Company       Credit Card CC Exp Date  \\\n",
       "0                  Martinez-Herman  6011929061123406       02/20   \n",
       "19                 Turner-Mckinney      676343504830       02/20   \n",
       "32                 Martinez-Wilson  4942281854569455       01/20   \n",
       "36                     Hanna-Grant   180042289507877       09/20   \n",
       "38    Bryant, Hubbard and Gonzales   210094965373094       12/20   \n",
       "...                            ...               ...         ...   \n",
       "9883                Perez and Sons  4939814860063025       05/20   \n",
       "9901                    Hughes Inc    30148833294789       09/20   \n",
       "9911                    Jones-Gray     4058074716188       12/20   \n",
       "9957    Martin, Clayton and Jarvis  3337737293232646       05/20   \n",
       "9992                     Wells Ltd  4664825258997302       10/20   \n",
       "\n",
       "      CC Security Code                  CC Provider  \\\n",
       "0                  900                 JCB 16 digit   \n",
       "19                 440                VISA 16 digit   \n",
       "32                8360                 JCB 16 digit   \n",
       "36                 912                VISA 16 digit   \n",
       "38                 248                      Voyager   \n",
       "...                ...                          ...   \n",
       "9883               238                   Mastercard   \n",
       "9901               483                      Voyager   \n",
       "9911               921  Diners Club / Carte Blanche   \n",
       "9957               798                VISA 13 digit   \n",
       "9992               431                     Discover   \n",
       "\n",
       "                             Email                                     Job  \\\n",
       "0                pdunlap@yahoo.com  Scientist, product/process development   \n",
       "19            ruiznicole@gmail.com              Designer, interior/spatial   \n",
       "32            shane21@atkinson.com             Civil Service fast streamer   \n",
       "36        saundersernest@walsh.com                     Animal technologist   \n",
       "38      djennings@boyd-english.org                         Music therapist   \n",
       "...                            ...                                     ...   \n",
       "9883            lisa25@hotmail.com                Therapeutic radiographer   \n",
       "9901             james32@gmail.com                           Meteorologist   \n",
       "9911  hensonlindsay@graves-fox.com                    Optician, dispensing   \n",
       "9957        latashaochoa@gmail.com                Therapeutic radiographer   \n",
       "9992             bberry@wright.net                            Set designer   \n",
       "\n",
       "           IP Address Language  Purchase Price  \n",
       "0     149.146.147.205       el           98.14  \n",
       "19     25.105.209.214       fr           58.39  \n",
       "32     196.37.134.217       pt           56.63  \n",
       "36      85.134.58.250       zh            9.77  \n",
       "38     143.138.65.219       en           30.07  \n",
       "...               ...      ...             ...  \n",
       "9883    215.85.159.70       pt           67.47  \n",
       "9901     250.66.85.29       en           57.25  \n",
       "9911     84.118.30.56       en           20.63  \n",
       "9957  239.219.241.162       ru           71.85  \n",
       "9992    174.173.51.32       de           67.96  \n",
       "\n",
       "[988 rows x 14 columns]"
      ]
     },
     "execution_count": 71,
     "metadata": {},
     "output_type": "execute_result"
    }
   ],
   "source": [
    "expires_2020 = ecom[ecom[\"CC Exp Date\"].str.slice(3) == \"20\"]\n",
    "len(expires_2020)\n",
    "expires_2020"
   ]
  },
  {
   "cell_type": "markdown",
   "metadata": {},
   "source": [
    "** Hard: What are the top 5 most popular email providers/hosts (e.g. gmail.com, yahoo.com, etc...) **"
   ]
  },
  {
   "cell_type": "code",
   "execution_count": 77,
   "metadata": {
    "collapsed": false
   },
   "outputs": [
    {
     "data": {
      "text/plain": [
       "Email\n",
       "hotmail.com     1638\n",
       "yahoo.com       1616\n",
       "gmail.com       1605\n",
       "smith.com         42\n",
       "williams.com      37\n",
       "Name: count, dtype: int64"
      ]
     },
     "execution_count": 77,
     "metadata": {},
     "output_type": "execute_result"
    }
   ],
   "source": [
    "def get_domain(email):\n",
    "    domain = email.split(\"@\")\n",
    "    return domain[1]\n",
    "\n",
    "new_df = ecom[\"Email\"].value_counts().reset_index()\n",
    "new_df[\"Domain\"] = ecom[\"Email\"].apply(lambda x: get_domain(x))\n",
    "new_df[\"Domain\"].value_counts().sort_values(ascending=False).head(5)\n",
    "\n",
    "# More efficient way\n",
    "top_domains = ecom['Email'].str.split('@').str[1].value_counts().head(5)\n",
    "top_domains"
   ]
  },
  {
   "cell_type": "markdown",
   "metadata": {},
   "source": [
    "# Great Job!"
   ]
  }
 ],
 "metadata": {
  "kernelspec": {
   "display_name": "Python 3",
   "language": "python",
   "name": "python3"
  },
  "language_info": {
   "codemirror_mode": {
    "name": "ipython",
    "version": 3
   },
   "file_extension": ".py",
   "mimetype": "text/x-python",
   "name": "python",
   "nbconvert_exporter": "python",
   "pygments_lexer": "ipython3",
   "version": "3.11.1"
  }
 },
 "nbformat": 4,
 "nbformat_minor": 0
}
